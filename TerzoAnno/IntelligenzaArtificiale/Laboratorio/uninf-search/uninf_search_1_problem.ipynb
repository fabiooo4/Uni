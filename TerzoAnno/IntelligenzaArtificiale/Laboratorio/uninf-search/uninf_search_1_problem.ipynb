{
 "cells": [
  {
   "cell_type": "markdown",
   "metadata": {},
   "source": [
    "# Planning-Lab Lesson 1: Search Strategies\n",
    "\n",
    "In this first lesson we will work both on Search Strategies. \n",
    "\n",
    "### Maze Environments\n",
    "The environments used is **SmallMaze** (visible in the figure).\n",
    "\n",
    "<img src=\"images/maze.png\" width=\"300\">\n",
    "\n",
    "The agent starts in cell $(0, 2)$ and has to reach the treasure in $(4, 3)$.\n",
    "\n",
    "In order to use the environment we need first to import the packages of OpenAI Gym. Notice that due to the structure of this repository, we need to add the parent directory to the path"
   ]
  },
  {
   "cell_type": "code",
   "execution_count": 7,
   "metadata": {},
   "outputs": [],
   "source": [
    "import os, sys, time, math\n",
    "\n",
    "module_path = os.path.abspath(os.path.join('../tools'))\n",
    "if module_path not in sys.path:\n",
    "    sys.path.append(module_path)\n",
    "\n",
    "from utils.ai_lab_functions import *\n",
    "import gym, envs"
   ]
  },
  {
   "cell_type": "markdown",
   "metadata": {},
   "source": [
    "# Uninformed search\n",
    "### Assignment 1: Breadth-First Search (BFS)\n",
    "\n",
    "**Your first assignment is to implement the BFS algorithm on SmallMaze. In particular, given the *tree search* version of BFS, you should implement the *graph search* version.**\n",
    "\n",
    "The results returned by your **BFS** must be in the following form (path, time_cost, space_cost), more in detail:\n",
    "\n",
    "- **path** - a tuple of state identifiers forming a path from the start state to the goal state. None if no solution is found.\n",
    "- **time_cost** - the number of nodes checked during the exploration.\n",
    "- **space_cost** - the maximum number of nodes in memory simultaneously.\n",
    "\n",
    "**For the time_cost, we consider a node checked after its generation!**\n",
    "\n",
    "After the correctness of your implementations has been assessed, you can run the algorithms on the **SmallMaze** environment.\n",
    "\n",
    "Functions to implement:\n",
    "\n",
    "- BFS_GraphSearch(problem)\n",
    "\n",
    "Function **build_path(node)** can be used to return a tuple of states from the root node (excluded) to another node by following parent links.\n",
    "\n",
    "Here is the pseudo-code from the book **Artificial Intelligence: A Modern Approach** for *Graph Search* and *Tree Search*:\n",
    "\n",
    "<img src=\"images/tree-graph-search.png\" width=\"600\">\n",
    "\n",
    "Here is the pseudo-code from the book **Artificial Intelligence: A Modern Approach** for the *BFS* algorithm, note that it refers to the implementation of the *Graph Search Version*:\n",
    "\n",
    "<img src=\"images/BFS2.png\" width=\"600\">"
   ]
  },
  {
   "cell_type": "markdown",
   "metadata": {},
   "source": [
    "**Here's an implementation of the BFS algorithm in its Tree Search version:**"
   ]
  },
  {
   "cell_type": "code",
   "execution_count": 8,
   "metadata": {},
   "outputs": [],
   "source": [
    "def BFS_TreeSearch(problem):\n",
    "    \"\"\"\n",
    "    Tree Search BFS\n",
    "    \n",
    "    Args:\n",
    "        problem: OpenAI Gym environment\n",
    "        \n",
    "    Returns:\n",
    "        (path, time_cost, space_cost): solution as a path and stats.\n",
    "    \"\"\"\n",
    "    \n",
    "    node = Node(problem.startstate, None)\n",
    "    time_cost = 1\n",
    "    space_cost = 1\n",
    "    \n",
    "    if node.state == problem.goalstate:\n",
    "        return build_path(node), time_cost, space_cost\n",
    "    \n",
    "    frontier = NodeQueue()\n",
    "    frontier.add(node)    \n",
    "    \n",
    "    while not frontier.is_empty():\n",
    "        node = frontier.remove()\n",
    "        \n",
    "        for action in range(problem.action_space.n):\n",
    "            \n",
    "            child = Node(problem.sample(node.state, action), node)\n",
    "            time_cost += 1\n",
    "            \n",
    "            if problem.goalstate == child.state: \n",
    "                return build_path(child), time_cost, space_cost\n",
    "            \n",
    "            frontier.add(child)\n",
    "             \n",
    "        space_cost = max(space_cost, len(frontier))  \n",
    "\n",
    "    return None, time_cost, space_cost"
   ]
  },
  {
   "cell_type": "markdown",
   "metadata": {},
   "source": [
    "**Now you can implement the same BFS algorithm in the Graph Search version:**"
   ]
  },
  {
   "cell_type": "code",
   "execution_count": 9,
   "metadata": {},
   "outputs": [],
   "source": [
    "def BFS_GraphSearch(problem):\n",
    "    \"\"\"\n",
    "    Graph Search BFS\n",
    "    \n",
    "    Args:\n",
    "        problem: OpenAI Gym environment\n",
    "        \n",
    "    Returns:\n",
    "        (path, time_cost, space_cost): solution as a path and stats.\n",
    "    \"\"\"\n",
    "    \n",
    "    node = Node(problem.startstate, None)\n",
    "    time_cost = 1\n",
    "    space_cost = 1\n",
    "    \n",
    "    if node.state == problem.goalstate:\n",
    "        return build_path(node), time_cost, space_cost\n",
    "    \n",
    "    frontier = NodeQueue()\n",
    "    explored = set()\n",
    "    frontier.add(node)\n",
    "    \n",
    "    while not frontier.is_empty():\n",
    "        node = frontier.remove()\n",
    "        explored.add(node.state)\n",
    "        \n",
    "        for action in range(problem.action_space.n):\n",
    "            child = Node(problem.sample(node.state, action), node)\n",
    "            time_cost += 1\n",
    "            \n",
    "            if not (child.state in explored or child.state in frontier):\n",
    "                if problem.goalstate == child.state: \n",
    "                    return build_path(child), time_cost, space_cost\n",
    "                frontier.add(child)\n",
    "             \n",
    "        space_cost = max(space_cost, len(frontier) + len(explored))  \n",
    "\n",
    "    return None, time_cost, space_cost\n"
   ]
  },
  {
   "cell_type": "markdown",
   "metadata": {},
   "source": [
    "**The following code calls your graph search version and the tree search version of BFS and checks the results:**"
   ]
  },
  {
   "cell_type": "code",
   "execution_count": 10,
   "metadata": {
    "scrolled": false
   },
   "outputs": [
    {
     "name": "stdout",
     "output_type": "stream",
     "text": [
      "\u001b[96m##########################################\u001b[0m\n",
      "\u001b[96m#######  BFS TREE SEARCH PROBLEM  ########\u001b[0m\n",
      "\u001b[96m##########################################\u001b[0m\n",
      "Solution: [(0, 1), (0, 0), (1, 0), (2, 0), (3, 0), (4, 0), (4, 1), (4, 2), (4, 3)]\n",
      "N° of nodes explored: 103723\n",
      "Max n° of nodes in memory: 77791\n",
      "\n",
      "\u001b[96m##########################################\u001b[0m\n",
      "\u001b[96m#######  BFS Graph SEARCH PROBLEM  #######\u001b[0m\n",
      "\u001b[96m##########################################\u001b[0m\n",
      "Your solution: [(0, 1), (0, 0), (1, 0), (2, 0), (3, 0), (4, 0), (4, 1), (4, 2), (4, 3)]\n",
      "N° of nodes explored: 59\n",
      "Max n° of nodes in memory: 15\n",
      "\n",
      "\u001b[1m\u001b[92m===> Your solution is correct!\n",
      "\u001b[0m\n"
     ]
    }
   ],
   "source": [
    "envname = \"SmallMaze-v0\"\n",
    "environment = gym.make(envname)\n",
    "\n",
    "solution_ts, time_ts, memory_ts = BFS_TreeSearch(environment)\n",
    "solution_gs, time_gs, memory_gs = BFS_GraphSearch(environment)\n",
    "\n",
    "results = CheckResult_L1A1([solution_ts, time_ts, memory_ts], [solution_gs, time_gs, memory_gs], environment)\n",
    "results.check_sol_ts()\n",
    "results.check_sol_gs()"
   ]
  },
  {
   "cell_type": "markdown",
   "metadata": {},
   "source": [
    "## Assignment 2:  Depth-Limited Search (DLS) and Iterative Deepening depth-first Search (IDS)\n",
    "\n",
    "**Your second assignment is to implement the IDS algorithm on SmallMaze. \n",
    "In particular, given Deph Limited Search (*DLS*) in the *tree search* version, you are required to implement the Ierative Depening Search (*IDS*) function.**\n",
    "\n",
    "Similarly to assignment 1, the results returned by your ids must be in the following form (path, Time Cost, Space Cost) described above. After the correctness of your implementations has been assessed, you can run the algorithms on the **SmallMaze** environment.\n",
    "\n",
    "Functions to implement:\n",
    "\n",
    "- IDS(problem)\n",
    "\n",
    "Function **build_path(node)** can be used to return a tuple of states from the root node (excluded) to another node by following parent links.\n",
    "\n",
    "Here is the pseudo-code from the book **Artificial Intelligence: A Modern Approach** for the *Depth-Limited Search (Tree Search Version)* and *Iterative deepening depth-first search (Tree Search Version)*:\n",
    "\n",
    "<img src=\"images/dls.png\" width=\"600\">\n",
    "\n",
    "<img src=\"images/ids.png\" width=\"600\">"
   ]
  },
  {
   "cell_type": "markdown",
   "metadata": {},
   "source": [
    "Note that Node() has a depthcost variable that represents the depth of the node in the search tree. This variable is automatically set by the Node constructor: if the root node has a depthcost of 0, its children will have a depthcost increased by 1. The depthcost is useful to compute the space cost for IDS. An example is shown below:"
   ]
  },
  {
   "cell_type": "code",
   "execution_count": 11,
   "metadata": {},
   "outputs": [
    {
     "name": "stdout",
     "output_type": "stream",
     "text": [
      "Root depthcost: 0\tChild depthcost: 1\n"
     ]
    }
   ],
   "source": [
    "start = environment.startstate\n",
    "root = Node(start)  # parent = None and depthcost = 0 as default\n",
    "child = Node(environment.sample(start, 0), root) # the depthcost is set automatically in the Node constructor\n",
    "print(\"Root depthcost: {}\\tChild depthcost: {}\".format(root.depthcost, child.depthcost))"
   ]
  },
  {
   "cell_type": "code",
   "execution_count": 12,
   "metadata": {},
   "outputs": [],
   "source": [
    "def DLS(problem, limit, RDLS_Function):\n",
    "    \"\"\"\n",
    "    DLS\n",
    "    \n",
    "    Args:\n",
    "        problem: OpenAI Gym environment\n",
    "        limit: depth limit for the exploration, negative number means 'no limit'\n",
    "        \n",
    "    Returns:\n",
    "        (path, time_cost, space_cost): solution as a path and stats.\n",
    "    \"\"\"\n",
    "        \n",
    "    node = Node(problem.startstate, None)\n",
    "    return RDLS_Function(node, problem, limit, set())"
   ]
  },
  {
   "cell_type": "code",
   "execution_count": 13,
   "metadata": {},
   "outputs": [],
   "source": [
    "def Recursive_DLS_TreeSearch(node, problem, limit, explored=None):\n",
    "    \"\"\"\n",
    "    DLS (Tree Search Version)\n",
    "    \n",
    "    Args:\n",
    "        node: node to explore\n",
    "        problem: OpenAI Gym environment\n",
    "        limit: depth limit for the exploration, negative number means 'no limit'\n",
    "        \n",
    "    Returns:\n",
    "        (path, time_cost, space_cost): solution as a path and stats.\n",
    "    \"\"\"\n",
    "    \n",
    "    if problem.goalstate == node.state: # Goal state check\n",
    "        return build_path(node), 1, node.depthcost\n",
    "    elif limit == 0: # Limit budget check for cutoff\n",
    "        return \"cut_off\", 1, node.depthcost\n",
    "    \n",
    "    space_cost = node.depthcost\n",
    "    time_cost = 1 \n",
    "    \n",
    "    cut_off_occurred = False\n",
    "    for action in range(problem.action_space.n): # Look around\n",
    "        child = Node(problem.sample(node.state, action), node) # Child node \n",
    "        result = Recursive_DLS_TreeSearch(child, problem, limit-1) # Recursive call\n",
    "        time_cost += result[1]\n",
    "\n",
    "        space_cost = max(space_cost, result[2])\n",
    "        \n",
    "        if result[0] == \"cut_off\":\n",
    "            cut_off_occurred = True\n",
    "        elif result[0] != \"failure\": # Solution found\n",
    "            return result[0], time_cost, space_cost\n",
    "        \n",
    "    if(cut_off_occurred): # Solution not found but cutoff occurred\n",
    "        return \"cut_off\", time_cost, space_cost\n",
    "    else: # No solution and no cutoff: failure\n",
    "        return \"failure\", time_cost, space_cost"
   ]
  },
  {
   "cell_type": "markdown",
   "metadata": {},
   "source": [
    "**Study the provided code for Depth Limited Search (DLS) and Recursive_DLS_TreeSearch and implement the Iterative Deepening Search function reported below.**"
   ]
  },
  {
   "cell_type": "code",
   "execution_count": 24,
   "metadata": {},
   "outputs": [],
   "source": [
    "def IDS(problem, DLS_Function):\n",
    "    \"\"\"\n",
    "    Iteartive_DLS DLS\n",
    "    \n",
    "    Args:\n",
    "        problem: OpenAI Gym environment\n",
    "        \n",
    "    Returns:\n",
    "        (path, time_cost, space_cost): solution as a path and stats.\n",
    "    \"\"\"\n",
    "    node = Node(problem.startstate, None)\n",
    "    start = Node(problem.startstate)\n",
    "    total_time_cost = 0\n",
    "    total_space_cost = 1\n",
    "\n",
    "    for depth in zero_to_infinity():\n",
    "        result = DLS(problem, depth, DLS_Function)\n",
    "        cut_off_occured = result[0] == \"cut_off\"\n",
    "        \n",
    "        total_time_cost += result[1]\n",
    "        total_space_cost = max(total_space_cost, result[2])\n",
    "        \n",
    "        if (not cut_off_occured):\n",
    "            return result[0], total_time_cost, total_space_cost, depth\n",
    "\n",
    "    return None, total_time_cost, total_space_cost, 0"
   ]
  },
  {
   "cell_type": "markdown",
   "metadata": {},
   "source": [
    "The following code calls your version of IDS and checks the results:"
   ]
  },
  {
   "cell_type": "code",
   "execution_count": 25,
   "metadata": {},
   "outputs": [
    {
     "name": "stdout",
     "output_type": "stream",
     "text": [
      "\u001b[96m##########################################\u001b[0m\n",
      "\u001b[96m#######  IDS TREE SEARCH PROBLEM  ########\u001b[0m\n",
      "\u001b[96m##########################################\u001b[0m\n",
      "Necessary Iterations: 9\n",
      "Your solution: [(0, 1), (0, 0), (1, 0), (2, 0), (3, 0), (4, 0), (4, 1), (4, 2), (4, 3)]\n",
      "N° of nodes explored: 138298\n",
      "Max n° of nodes in memory: 9\n",
      "\n",
      "\u001b[1m\u001b[92m===> Your solution is correct!\n",
      "\u001b[0m\n"
     ]
    }
   ],
   "source": [
    "envname = \"SmallMaze-v0\"\n",
    "environment = gym.make(envname)\n",
    "\n",
    "solution_ts, time_ts, memory_ts, iterations_ts = IDS(environment, Recursive_DLS_TreeSearch)\n",
    "\n",
    "results = CheckResult_L1A2([solution_ts, time_ts, memory_ts, iterations_ts], environment)\n",
    "results.check_sol_ts()"
   ]
  },
  {
   "cell_type": "markdown",
   "metadata": {},
   "source": [
    "#### Discussion\n",
    "\n",
    "Now that you have correctly implemented both BFS and IDS what can you say about the solutions they compute? Are there significant differences in the stats?"
   ]
  }
 ],
 "metadata": {
  "kernelspec": {
   "display_name": "Python 3 (ipykernel)",
   "language": "python",
   "name": "python3"
  },
  "language_info": {
   "codemirror_mode": {
    "name": "ipython",
    "version": 3
   },
   "file_extension": ".py",
   "mimetype": "text/x-python",
   "name": "python",
   "nbconvert_exporter": "python",
   "pygments_lexer": "ipython3",
   "version": "3.7.3"
  }
 },
 "nbformat": 4,
 "nbformat_minor": 4
}
