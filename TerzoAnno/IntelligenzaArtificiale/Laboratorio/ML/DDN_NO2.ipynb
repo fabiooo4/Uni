{
 "cells": [
  {
   "cell_type": "markdown",
   "id": "82654ec3",
   "metadata": {},
   "source": [
    "# Machine Learning, DNN for regression\n",
    "\n",
    "### Description of the dataset NO2\n",
    "The dataset that we are going to use for this lesson was obtained from the StatLib repository. http://lib.stat.cmu.edu/datasets/ (NO2).\n",
    "The data are a subsample of 500 observations from a data set that originate in a study where air pollution at a road is related to traffic volume and meteorological variables, collected by the Norwegian Public Roads Administration. The response variable (column 1) consist of hourly values of the logarithm of the concentration of NO2 (particles), measured at Alnabru in Oslo, Norway, between October 2001 and August 2003. The predictor variables (columns 2 to 8) are the logarithm of the number of cars per hour, temperature $2$ meters above ground (degree C), wind speed (meters/second), the temperature difference between $25$ and $2$ meters above ground (degree C), wind direction (degrees between 0 and 360), hour of day and day number from October 1 2001. Submitted by Magne Aldrin (magne.aldrin@nr.no). [28/Jul/04] (19kbytes) \n",
    "\n",
    "\n",
    "Target variable:\n",
    "- NO2 concentration (log) [lno2]  \n",
    "\n",
    "Features:    \n",
    "- log of car per hour [lc] \n",
    "\n",
    "- temperature 2 meters above the ground (degree C)[t2] \n",
    "\n",
    "- wind speed (meters/seconds) [ws]\n",
    "\n",
    "- temperature difference between 25 meters and 2 meters above the ground (degree C) [td25] \n",
    "\n",
    "- wind direction (degrees between 0 and 360) [wd] \n",
    "\n",
    "- hour of day [hd] average house occupancy\n",
    "\n",
    "- day number from Oct. 1 2001 [dn] "
   ]
  },
  {
   "cell_type": "code",
   "execution_count": 3,
   "id": "ed82b9c4",
   "metadata": {},
   "outputs": [],
   "source": [
    "import numpy as np \n",
    "import pandas as pd \n",
    "import seaborn as sns\n",
    "import matplotlib.pyplot as plt\n",
    "from sklearn.preprocessing import MinMaxScaler\n",
    "from sklearn.model_selection import train_test_split\n",
    "from math import sqrt\n",
    "from sklearn.metrics import mean_squared_error\n",
    "from keras.models import Sequential\n",
    "from keras.layers import Dense\n",
    "from keras import metrics"
   ]
  },
  {
   "cell_type": "markdown",
   "id": "63af1ab7",
   "metadata": {},
   "source": [
    "### ASSIGNING LABELS TO FEATURES\n",
    "We assign the labels to the corresponding columns to have a clean representation of the dataset \n"
   ]
  },
  {
   "cell_type": "code",
   "execution_count": 4,
   "id": "8c44875f",
   "metadata": {},
   "outputs": [],
   "source": [
    "features = ['lc', 't2', 'ws', 'td25', 'wd', 'hd', 'dn']"
   ]
  },
  {
   "cell_type": "markdown",
   "id": "67113644",
   "metadata": {},
   "source": [
    "### CREATE THE DNN LARGE NETWORK MODEL\n",
    "\n",
    "\n",
    "<img src=\"images/DNN-all.png\" alt=\"DNN Model Large\" width=\"500\"/>\n",
    "\n",
    "\n",
    "#### Create the network as indicated in the image above. All activation functions should be ReLU. Have a look at the slide for hints on the code to use. \n"
   ]
  },
  {
   "cell_type": "code",
   "execution_count": 5,
   "id": "c61905b3",
   "metadata": {},
   "outputs": [],
   "source": [
    "def create_model_large():\n",
    "    # create model\n",
    "    model = Sequential()\n",
    "    #your code here\t\n",
    "    return model"
   ]
  },
  {
   "cell_type": "markdown",
   "id": "d2609ee3",
   "metadata": {},
   "source": [
    "### CREATE THE TINY ANN MODEL\n",
    "\n",
    "#### Create an ANN with 1 layer containing 3 neurons (model tiny), alla activation functions should be ReLU."
   ]
  },
  {
   "cell_type": "code",
   "execution_count": 6,
   "id": "0340343c",
   "metadata": {},
   "outputs": [],
   "source": [
    "def create_model_tiny():\n",
    "    # create model\n",
    "    model = Sequential()\n",
    "    #your code here\t\n",
    "    return model"
   ]
  },
  {
   "cell_type": "markdown",
   "id": "3926afbd",
   "metadata": {},
   "source": [
    "### CREATE THE SMALL ANN MODEL\n",
    "\n",
    "#### Create an ANN with 1 layer containing 10 neurons (model small), alla activation functions should be ReLU."
   ]
  },
  {
   "cell_type": "code",
   "execution_count": 7,
   "id": "aa5704c9",
   "metadata": {},
   "outputs": [],
   "source": [
    "def create_model_small():\n",
    "    # create model\n",
    "    model = Sequential()\n",
    "    #your code here\t\n",
    "    return model"
   ]
  },
  {
   "cell_type": "markdown",
   "id": "cca7ade0",
   "metadata": {},
   "source": [
    "### CREATE THE MEDIUM DNN MODEL\n",
    "\n",
    "#### Create an DNN with 2 layers containing respectively 10 and 30 neurons (model medium), alla activation functions should be ReLU.\n"
   ]
  },
  {
   "cell_type": "code",
   "execution_count": 8,
   "id": "2d91d294",
   "metadata": {},
   "outputs": [],
   "source": [
    "def create_model_medium():\n",
    "    # create model\n",
    "    model = Sequential()    \n",
    "    #your code here\t\n",
    "    return model"
   ]
  },
  {
   "cell_type": "markdown",
   "id": "d92883cd",
   "metadata": {},
   "source": [
    "### Evaluating the model\n",
    "\n",
    "The following functions computes the Root Mean Squared Error and the Normalized Root Mean Squared Error between the groud thruth (real) and inferred (pred) responses.  "
   ]
  },
  {
   "cell_type": "code",
   "execution_count": 9,
   "id": "784118b3",
   "metadata": {},
   "outputs": [],
   "source": [
    "def RMSE(real, pred):\n",
    "    return sqrt(mean_squared_error(real, pred))\n",
    "\n",
    "def NRMSE(real, pred):\n",
    "    return sqrt(mean_squared_error(real, pred)/(real.max() - real.min()))"
   ]
  },
  {
   "cell_type": "markdown",
   "id": "a34190c8",
   "metadata": {},
   "source": [
    "### Loading  the data \n",
    "\n",
    "#### Using the panda library to load data, provide a descriptive summary"
   ]
  },
  {
   "cell_type": "code",
   "execution_count": 10,
   "id": "e69e0f08",
   "metadata": {},
   "outputs": [
    {
     "data": {
      "text/html": [
       "<div>\n",
       "<style scoped>\n",
       "    .dataframe tbody tr th:only-of-type {\n",
       "        vertical-align: middle;\n",
       "    }\n",
       "\n",
       "    .dataframe tbody tr th {\n",
       "        vertical-align: top;\n",
       "    }\n",
       "\n",
       "    .dataframe thead th {\n",
       "        text-align: right;\n",
       "    }\n",
       "</style>\n",
       "<table border=\"1\" class=\"dataframe\">\n",
       "  <thead>\n",
       "    <tr style=\"text-align: right;\">\n",
       "      <th></th>\n",
       "      <th>lno2</th>\n",
       "      <th>lc</th>\n",
       "      <th>t2</th>\n",
       "      <th>ws</th>\n",
       "      <th>td25</th>\n",
       "      <th>wd</th>\n",
       "      <th>hd</th>\n",
       "      <th>dn</th>\n",
       "    </tr>\n",
       "  </thead>\n",
       "  <tbody>\n",
       "    <tr>\n",
       "      <th>count</th>\n",
       "      <td>500.000000</td>\n",
       "      <td>500.000000</td>\n",
       "      <td>500.000000</td>\n",
       "      <td>500.000000</td>\n",
       "      <td>500.000000</td>\n",
       "      <td>500.000000</td>\n",
       "      <td>500.000000</td>\n",
       "      <td>500.000000</td>\n",
       "    </tr>\n",
       "    <tr>\n",
       "      <th>mean</th>\n",
       "      <td>3.698368</td>\n",
       "      <td>6.973342</td>\n",
       "      <td>0.847400</td>\n",
       "      <td>3.056000</td>\n",
       "      <td>0.149400</td>\n",
       "      <td>143.370400</td>\n",
       "      <td>12.382000</td>\n",
       "      <td>310.474000</td>\n",
       "    </tr>\n",
       "    <tr>\n",
       "      <th>std</th>\n",
       "      <td>0.750597</td>\n",
       "      <td>1.087166</td>\n",
       "      <td>6.524636</td>\n",
       "      <td>1.784172</td>\n",
       "      <td>1.065237</td>\n",
       "      <td>86.510213</td>\n",
       "      <td>6.802693</td>\n",
       "      <td>200.977754</td>\n",
       "    </tr>\n",
       "    <tr>\n",
       "      <th>min</th>\n",
       "      <td>1.223780</td>\n",
       "      <td>4.127130</td>\n",
       "      <td>-18.600000</td>\n",
       "      <td>0.300000</td>\n",
       "      <td>-5.400000</td>\n",
       "      <td>2.000000</td>\n",
       "      <td>1.000000</td>\n",
       "      <td>32.000000</td>\n",
       "    </tr>\n",
       "    <tr>\n",
       "      <th>25%</th>\n",
       "      <td>3.213862</td>\n",
       "      <td>6.175842</td>\n",
       "      <td>-3.900000</td>\n",
       "      <td>1.675000</td>\n",
       "      <td>-0.200000</td>\n",
       "      <td>72.000000</td>\n",
       "      <td>6.000000</td>\n",
       "      <td>118.750000</td>\n",
       "    </tr>\n",
       "    <tr>\n",
       "      <th>50%</th>\n",
       "      <td>3.848020</td>\n",
       "      <td>7.425360</td>\n",
       "      <td>1.100000</td>\n",
       "      <td>2.800000</td>\n",
       "      <td>0.000000</td>\n",
       "      <td>97.000000</td>\n",
       "      <td>12.500000</td>\n",
       "      <td>212.000000</td>\n",
       "    </tr>\n",
       "    <tr>\n",
       "      <th>75%</th>\n",
       "      <td>4.216930</td>\n",
       "      <td>7.793175</td>\n",
       "      <td>4.900000</td>\n",
       "      <td>4.200000</td>\n",
       "      <td>0.600000</td>\n",
       "      <td>220.000000</td>\n",
       "      <td>18.000000</td>\n",
       "      <td>513.000000</td>\n",
       "    </tr>\n",
       "    <tr>\n",
       "      <th>max</th>\n",
       "      <td>6.395090</td>\n",
       "      <td>8.348540</td>\n",
       "      <td>21.100000</td>\n",
       "      <td>9.900000</td>\n",
       "      <td>4.300000</td>\n",
       "      <td>359.000000</td>\n",
       "      <td>24.000000</td>\n",
       "      <td>608.000000</td>\n",
       "    </tr>\n",
       "  </tbody>\n",
       "</table>\n",
       "</div>"
      ],
      "text/plain": [
       "             lno2          lc          t2          ws        td25          wd  \\\n",
       "count  500.000000  500.000000  500.000000  500.000000  500.000000  500.000000   \n",
       "mean     3.698368    6.973342    0.847400    3.056000    0.149400  143.370400   \n",
       "std      0.750597    1.087166    6.524636    1.784172    1.065237   86.510213   \n",
       "min      1.223780    4.127130  -18.600000    0.300000   -5.400000    2.000000   \n",
       "25%      3.213862    6.175842   -3.900000    1.675000   -0.200000   72.000000   \n",
       "50%      3.848020    7.425360    1.100000    2.800000    0.000000   97.000000   \n",
       "75%      4.216930    7.793175    4.900000    4.200000    0.600000  220.000000   \n",
       "max      6.395090    8.348540   21.100000    9.900000    4.300000  359.000000   \n",
       "\n",
       "               hd          dn  \n",
       "count  500.000000  500.000000  \n",
       "mean    12.382000  310.474000  \n",
       "std      6.802693  200.977754  \n",
       "min      1.000000   32.000000  \n",
       "25%      6.000000  118.750000  \n",
       "50%     12.500000  212.000000  \n",
       "75%     18.000000  513.000000  \n",
       "max     24.000000  608.000000  "
      ]
     },
     "execution_count": 10,
     "metadata": {},
     "output_type": "execute_result"
    }
   ],
   "source": [
    "# Load data\n",
    "df = pd.read_csv('NO2.csv', index_col=False)\n",
    "\n",
    "# Descriptive statistics summary\n",
    "df.describe()"
   ]
  },
  {
   "cell_type": "markdown",
   "id": "a5077d5e",
   "metadata": {},
   "source": [
    "### Visualzing the relationships among the features in the data\n",
    "\n",
    "#### Compute and visualize a correlation matring among the features (using the seaborn library)."
   ]
  },
  {
   "cell_type": "code",
   "execution_count": 11,
   "id": "d0462cbc",
   "metadata": {},
   "outputs": [
    {
     "data": {
      "image/png": "[encoded data removed]",
      "text/plain": [
       "<Figure size 864x648 with 2 Axes>"
      ]
     },
     "metadata": {
      "needs_background": "light"
     },
     "output_type": "display_data"
    }
   ],
   "source": [
    "# Correlation matrix\n",
    "corrmat = df.corr()\n",
    "\n",
    "# Generate a mask for the upper triangle\n",
    "matrix = np.triu(corrmat)\n",
    "f, ax = plt.subplots(figsize=(12, 9))\n",
    "sns.set(font_scale=1)\n",
    "sns.heatmap(corrmat, vmin=-1, vmax=1, center= 0, square=True, annot=True, annot_kws={'size': 8}, mask=matrix, fmt='.2g', cmap= 'coolwarm')\n",
    "\n",
    "plt.show()"
   ]
  },
  {
   "cell_type": "markdown",
   "id": "38edb4c0",
   "metadata": {},
   "source": [
    "### Standizing the data\n",
    "\n",
    "#### Standardize features to have 0 mean, sigma 1 and range between -1 and 1.  Do not standardize the response."
   ]
  },
  {
   "cell_type": "code",
   "execution_count": 12,
   "id": "c07e64fd",
   "metadata": {},
   "outputs": [],
   "source": [
    "# Standardizing data\n",
    "sc= MinMaxScaler(feature_range=(-1,1))\n",
    "\n",
    "for var in features:\n",
    "    if(var != 'lno2'):\n",
    "        df[var] = sc.fit_transform(df[var].values.reshape(-1, 1))\n"
   ]
  },
  {
   "cell_type": "markdown",
   "id": "e8e6a673",
   "metadata": {},
   "source": [
    "### Preparing the data for training, using validation set approach \n",
    "\n",
    "#### Remove labels and create the validation set."
   ]
  },
  {
   "cell_type": "code",
   "execution_count": null,
   "id": "fed6783e",
   "metadata": {},
   "outputs": [],
   "source": [
    "#NumPy representation of the data frame (removing labels)\n",
    "df = df.to_numpy() #df=df.values\n",
    "\n",
    "#divide predictors from features\n",
    "X = #insert your code here \n",
    "y = #insert your code here\n",
    "\n",
    "seed = 7\n",
    "np.random.seed(seed)\n",
    "\n",
    "# split dataset in 75% for traininig and 25% for testing (500 -> 375,125)\n",
    "X_train, X_test, y_train, y_test = train_test_split(X, y, test_size=0.25, random_state=seed)\n",
    "\n",
    "# split training in 70% for traininig and 30% for validating (375 -> 300,75)\n",
    "X_train, X_val, y_train, y_val = #insert your code here\n",
    "\n",
    "# Model creation (choose between tiny, small, medium and large by using the appropriate function)\n",
    "model = create_model_large()\n",
    "model.summary()"
   ]
  },
  {
   "cell_type": "markdown",
   "id": "cb1259b8",
   "metadata": {},
   "source": [
    "### Fit the DNN to the data"
   ]
  },
  {
   "cell_type": "code",
   "execution_count": null,
   "id": "f6e8c737",
   "metadata": {},
   "outputs": [],
   "source": [
    "history = model.fit(X_train, y_train, validation_data=(X_val, y_val), epochs=150, batch_size=32)"
   ]
  },
  {
   "cell_type": "markdown",
   "id": "41553e19",
   "metadata": {},
   "source": [
    "### Evaluate accuracy and loss of your model. This is how your plots should look like:\n",
    "<table><tr>\n",
    "<td> <img src=\"images/accuracy.png\" style=\"width: 500px;\"/> </td>\n",
    "<td> <img src=\"images/loss.png\" style=\"width: 500px;\"/> </td>\n",
    "</tr></table>"
   ]
  },
  {
   "cell_type": "code",
   "execution_count": null,
   "id": "1ee2d52e",
   "metadata": {},
   "outputs": [],
   "source": [
    "# Summarize history for accuracy\n",
    "plt.plot(history.history['mean_absolute_error'])\n",
    "plt.plot(history.history['val_mean_absolute_error'])\n",
    "plt.title('model accuracy')\n",
    "plt.ylabel('accuracy')\n",
    "plt.xlabel('epoch')\n",
    "plt.legend(['train', 'test'], loc='upper right')\n",
    "plt.show()"
   ]
  },
  {
   "cell_type": "code",
   "execution_count": null,
   "id": "12748206",
   "metadata": {},
   "outputs": [],
   "source": [
    "# Summarize history for loss\n",
    "plt.plot(history.history['loss'])\n",
    "plt.plot(history.history['val_loss'])\n",
    "plt.title('model loss')\n",
    "plt.ylabel('loss')\n",
    "plt.xlabel('epoch')\n",
    "plt.legend(['train', 'test'], loc='upper right')\n",
    "plt.show()"
   ]
  },
  {
   "cell_type": "markdown",
   "id": "2ef85c07",
   "metadata": {},
   "source": [
    "### Now evaluate the predictions of your model in terms of RMSE and NRMSE. You should obtain plots like these:\n",
    "<table><tr>\n",
    "<td> <img src=\"images/inference.png\" style=\"width: 500px;\"/> </td>\n",
    "<td> <img src=\"images/inference_diff.png\" style=\"width: 500px;\"/> </td>\n",
    "</tr></table>"
   ]
  },
  {
   "cell_type": "code",
   "execution_count": null,
   "id": "252cb0c3",
   "metadata": {},
   "outputs": [],
   "source": [
    "# Prediction\n",
    "pred = model.predict(X_test).reshape(1,-1)[0]\n",
    "\n",
    "rmse = RMSE(y_test, pred)\n",
    "nrmse = NRMSE(y_test, pred)\n",
    "\n",
    "\n",
    "print(\"rmse : \",rmse,\"  nrmse : \",nrmse)"
   ]
  },
  {
   "cell_type": "code",
   "execution_count": null,
   "id": "488c2f32",
   "metadata": {},
   "outputs": [],
   "source": [
    "my_x=np.arange(0,len(X_test[:,0]),1)\n",
    "\n",
    "fig = plt.figure(figsize=(20,10))\n",
    "plt.scatter(my_x, y_test, label='Real', color='blue', marker='o')\n",
    "plt.scatter(my_x, pred, label='Inference', color='red', marker='s')\n",
    "plt.title(f'Inference of log(NO2)  rmse: {rmse:.3f}, nrmse: {nrmse:.3f}')\n",
    "plt.ylabel('log(NO2)')\n",
    "plt.xlabel('readings (rows of file)')\n",
    "plt.grid()\n",
    "plt.legend()\n",
    "plt.show()"
   ]
  },
  {
   "cell_type": "code",
   "execution_count": null,
   "id": "17ad02fa",
   "metadata": {},
   "outputs": [],
   "source": [
    "fig = plt.figure(figsize=(20,10))\n",
    "my_d = abs(y_test-pred)\n",
    "\n",
    "plt.bar(my_x,my_d)\n",
    "plt.title(f'Inference of log(NO2) -- absolute difference between inference and ground truth rmse: {rmse:.3f}, nrmse: {nrmse:.3f}')\n",
    "plt.ylabel('absolute value of difference in inference [log(NO2)]')\n",
    "plt.xlabel('readings (rows of file)')\n",
    "plt.grid()\n",
    "plt.show()"
   ]
  }
 ],
 "metadata": {
  "kernelspec": {
   "display_name": "Python 3 (ipykernel)",
   "language": "python",
   "name": "python3"
  },
  "language_info": {
   "codemirror_mode": {
    "name": "ipython",
    "version": 3
   },
   "file_extension": ".py",
   "mimetype": "text/x-python",
   "name": "python",
   "nbconvert_exporter": "python",
   "pygments_lexer": "ipython3",
   "version": "3.7.3"
  }
 },
 "nbformat": 4,
 "nbformat_minor": 5
}
